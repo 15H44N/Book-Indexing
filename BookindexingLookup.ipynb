{
  "nbformat": 4,
  "nbformat_minor": 0,
  "metadata": {
    "colab": {
      "name": "Bookindexing Lookup.ipynb",
      "provenance": [],
      "collapsed_sections": [
        "TBASZifEQjE6",
        "BEJdm3p9Qxy5",
        "eTJvAuxEQ5s4",
        "8RPoZMVjRccz",
        "hbe61AO3RJwG",
        "Z-mlAKeHSCXi"
      ],
      "include_colab_link": true
    },
    "kernelspec": {
      "display_name": "Python 3",
      "language": "python",
      "name": "python3"
    },
    "language_info": {
      "codemirror_mode": {
        "name": "ipython",
        "version": 3
      },
      "file_extension": ".py",
      "mimetype": "text/x-python",
      "name": "python",
      "nbconvert_exporter": "python",
      "pygments_lexer": "ipython3",
      "version": "3.7.6"
    }
  },
  "cells": [
    {
      "cell_type": "markdown",
      "metadata": {
        "id": "view-in-github",
        "colab_type": "text"
      },
      "source": [
        "<a href=\"https://colab.research.google.com/github/15H44N/Book-Indexing/blob/master/BookindexingLookup.ipynb\" target=\"_parent\"><img src=\"https://colab.research.google.com/assets/colab-badge.svg\" alt=\"Open In Colab\"/></a>"
      ]
    },
    {
      "cell_type": "markdown",
      "metadata": {
        "id": "TBASZifEQjE6",
        "colab_type": "text"
      },
      "source": [
        "# Import and Configure\n"
      ]
    },
    {
      "cell_type": "code",
      "metadata": {
        "Collapsed": "false",
        "colab_type": "code",
        "id": "4dIUpEWhYNd6",
        "colab": {}
      },
      "source": [
        "!pip install isbnlib"
      ],
      "execution_count": 0,
      "outputs": []
    },
    {
      "cell_type": "code",
      "metadata": {
        "Collapsed": "false",
        "colab_type": "code",
        "id": "Ih30TTCFZJdZ",
        "colab": {}
      },
      "source": [
        "import pandas as pd\n",
        "import isbnlib as ib\n",
        "from isbnlib import ISBNLibException\n",
        "from bs4 import BeautifulSoup as soup\n",
        "import requests\n",
        "import numpy as np\n",
        "import json\n",
        "import textwrap\n",
        "import urllib.request"
      ],
      "execution_count": 0,
      "outputs": []
    },
    {
      "cell_type": "code",
      "metadata": {
        "id": "KZPEnfiu2HwG",
        "colab_type": "code",
        "colab": {}
      },
      "source": [
        "from google.colab import drive\n",
        "drive.mount('/content/drive')"
      ],
      "execution_count": 0,
      "outputs": []
    },
    {
      "cell_type": "code",
      "metadata": {
        "id": "TydahQSX3PUM",
        "colab_type": "code",
        "colab": {}
      },
      "source": [
        "from google.colab import auth\n",
        "auth.authenticate_user()\n",
        "\n",
        "import gspread\n",
        "from oauth2client.client import GoogleCredentials\n",
        "\n",
        "gc = gspread.authorize(GoogleCredentials.get_application_default())"
      ],
      "execution_count": 0,
      "outputs": []
    },
    {
      "cell_type": "markdown",
      "metadata": {
        "id": "BEJdm3p9Qxy5",
        "colab_type": "text"
      },
      "source": [
        "# Data Import"
      ]
    },
    {
      "cell_type": "code",
      "metadata": {
        "id": "qWj9t8h13jeT",
        "colab_type": "code",
        "colab": {}
      },
      "source": [
        "worksheet = gc.open('Books Data').sheet1\n",
        "\n",
        "# get_all_values gives a list of rows.\n",
        "allrows = worksheet.get_all_values()\n",
        "\n",
        "labels=allrows.pop(0)\n",
        "rowdict={}\n",
        "rowdictkeys=[]\n",
        "for i in labels:\n",
        "  rowdictkeys.append(i)\n",
        "allrowsT=np.transpose(allrows)\n",
        "#print(allrowsT)\n",
        "rowdictvalues=allrowsT\n",
        "rowdict=dict(zip(rowdictkeys,rowdictvalues))\n",
        "sdf=pd.DataFrame(rowdict)\n",
        "sdf.head()"
      ],
      "execution_count": 0,
      "outputs": []
    },
    {
      "cell_type": "code",
      "metadata": {
        "id": "FeP8ec0GPZ5H",
        "colab_type": "code",
        "colab": {}
      },
      "source": [
        "Isbnlist=sdf['LV Shelf Left'].tolist()"
      ],
      "execution_count": 0,
      "outputs": []
    },
    {
      "cell_type": "markdown",
      "metadata": {
        "id": "eTJvAuxEQ5s4",
        "colab_type": "text"
      },
      "source": [
        "# Lookup Functions"
      ]
    },
    {
      "cell_type": "code",
      "metadata": {
        "Collapsed": "false",
        "colab_type": "code",
        "id": "FFTOTWAVrPom",
        "colab": {}
      },
      "source": [
        "def getBookValsGoogleBooks(isbn=\"9788129300379\"):\n",
        "\n",
        "  base_api_link = \"https://www.googleapis.com/books/v1/volumes?q=isbn:\"\n",
        "\n",
        "  savelist=[\"publishedDate\",\"title\",\"authors\",\"pageCount\",\"categories\",\"infoLink\"]\n",
        "  namedik={'Author': 'Swami Ramsukhdas','Categories': 'Conduct of life','ISBN-13': '9788129300379','Published': '2010','Title': 'Be Good and Invaluable Advice','URL': 'http://books.google.com/books?id=zOUmMwEACAAJ&dq=isbn:9788129300379&hl=&source=gbs_api'}\n",
        "\n",
        "  with urllib.request.urlopen(base_api_link + isbn) as f:\n",
        "    text = f.read()\n",
        "    decoded_text = text.decode(\"utf-8\")\n",
        "    obj = json.loads(decoded_text) \n",
        "\n",
        "    if obj[\"totalItems\"] <= 0:\n",
        "      errdict={}\n",
        "      for i in namedik.keys():\n",
        "        errdict[i]=\"\"\n",
        "      return errdict\n",
        "        \n",
        "    \n",
        "    volume_info = obj[\"items\"][0] \n",
        "    for i in savelist:\n",
        "      if i not in volume_info['volumeInfo'].keys():\n",
        "        volume_info['volumeInfo'][i]=''\n",
        "\n",
        "    authors = obj[\"items\"][0][\"volumeInfo\"][\"authors\"]\n",
        "\n",
        "  df=pd.DataFrame.from_dict(volume_info)\n",
        "  df.drop(columns=['kind','id','etag','selfLink','saleInfo','accessInfo'],inplace=True)\n",
        "  df=df.transpose()\n",
        "  labeltodroplist=[]\n",
        "\n",
        "  authlist=df['authors'][0]\n",
        "  df['authors'][0]=\", \".join(authlist)\n",
        "\n",
        "  if df['categories'] is not '':\n",
        "    catlist=df['categories'][0]\n",
        "    df['categories'][0]=\", \".join(catlist)\n",
        "  \n",
        "  for i in range(len(df.transpose())):\n",
        "    if df.columns[i] not in savelist:\n",
        "      labeltodroplist.append(df.columns[i])\n",
        "  df.drop(inplace=True,axis='columns',labels=labeltodroplist)\n",
        "  df.rename(columns={\"authors\":\"Author\",\"categories\":\"Categories\",\"publishedDate\":\"Published\",\"title\":\"Title\",\"infoLink\":\"URL\"},inplace=True)\n",
        "  #df['ISBN-13']=[(isbn)]\n",
        "  df.drop(inplace=True,columns=[\"pageCount\"])\n",
        "  print(df.to_dict(orient='records')[0])\n",
        "  return(df.to_dict(orient='records')[0])\n"
      ],
      "execution_count": 0,
      "outputs": []
    },
    {
      "cell_type": "code",
      "metadata": {
        "Collapsed": "false",
        "colab_type": "code",
        "id": "zZDCx8vx5iGp",
        "colab": {}
      },
      "source": [
        "def getpageISBN(isbn=\"9788129300379\"):\n",
        "\n",
        "  apikey=\"http://api.scraperapi.com?api_key=6594089066e419a8ba582146468a34af&url=\"\n",
        "  apiurl=\"http://isbnsearch.org/isbn/\"\n",
        "\n",
        "  #r=requests.get(apiurl+isbn)\n",
        "  #if r is \"<Response [403]>\":\n",
        "  req=requests.get(apikey+apiurl+isbn)\n",
        "  return(req)\n",
        "\n",
        "def getbookvals(r):\n",
        "  page_soup=soup(r.content,\"html.parser\")\n",
        "  #print(page_soup.prettify())\n",
        "  booklist=page_soup.findAll(\"div\",{\"class\":\"bookinfo\"})\n",
        "  if len(booklist)==0:\n",
        "      return {\"ISBN-13\":isbn}\n",
        "  page2=soup(str(booklist[0]),\"html.parser\")\n",
        "  title=soup((str(page2.find(\"h1\"))),\"html.parser\").text\n",
        "  plist=page2.findAll(\"p\")\n",
        "  infol=[('Title',title)]\n",
        "  for i in plist:\n",
        "    vals=i.text.split(sep=\": \",maxsplit=1)\n",
        "    infol.append((vals[0],vals[1]))\n",
        "  infodict=dict(infol)\n",
        "  infodict[\"URL\"]=str(\"http://isbnsearch.org/isbn/\"+infodict[\"ISBN-13\"])\n",
        "  return(infodict)"
      ],
      "execution_count": 0,
      "outputs": []
    },
    {
      "cell_type": "markdown",
      "metadata": {
        "id": "8RPoZMVjRccz",
        "colab_type": "text"
      },
      "source": [
        "# Lookup in Google Books and ISBN Search\n"
      ]
    },
    {
      "cell_type": "code",
      "metadata": {
        "Collapsed": "false",
        "colab_type": "code",
        "id": "SOsZFifF8TTv",
        "colab": {}
      },
      "source": [
        "infolist=[]\n",
        "row={}\n",
        "gRowdict={}\n",
        "for i in Isbnlist:\n",
        "  gRowdict=getBookValsGoogleBooks(i)\n",
        "  gRowdict[\"ISBN-13\"]=i\n",
        "  infolist.append(gRowdict)"
      ],
      "execution_count": 0,
      "outputs": []
    },
    {
      "cell_type": "code",
      "metadata": {
        "Collapsed": "false",
        "colab_type": "code",
        "id": "BIu2pXKPHKTK",
        "colab": {}
      },
      "source": [
        "for i in range(len(infolist)):\n",
        "  y=infolist[i]\n",
        "  if (y[\"Author\"] is \"\" and y[\"Title\"] is \"\"):\n",
        "    #not found in google books.\n",
        "    #find in the web scraper method\n",
        "    isbn=Isbnlist[i]\n",
        "    rst=getpageISBN(isbn)\n",
        "    l1=getbookvals(rst)\n",
        "    infolist[i]=l1"
      ],
      "execution_count": 0,
      "outputs": []
    },
    {
      "cell_type": "code",
      "metadata": {
        "Collapsed": "false",
        "colab_type": "code",
        "id": "y_dBsRMAUKID",
        "colab": {}
      },
      "source": [
        "df=pd.DataFrame(infolist)\n",
        "df.drop(inplace=True,columns=[\"ISBN-10\",\"Edition\",\"Binding\",\"Publisher\"])\n",
        "df.fillna(\"Not Available\")\n",
        "df.to_csv(\"/content/drive/My Drive/Colab Notebooks/Books Arrange/data.csv\",index=False)\n",
        "df"
      ],
      "execution_count": 0,
      "outputs": []
    },
    {
      "cell_type": "markdown",
      "metadata": {
        "id": "hbe61AO3RJwG",
        "colab_type": "text"
      },
      "source": [
        "# Lookup on OpenLib"
      ]
    },
    {
      "cell_type": "code",
      "metadata": {
        "Collapsed": "false",
        "colab_type": "code",
        "id": "7S37Sfa4mi_B",
        "colab": {}
      },
      "source": [
        "df=pd.read_csv(\"/content/drive/My Drive/Colab Notebooks/Books Arrange/data.csv\",)\n",
        "df.fillna(\"\")"
      ],
      "execution_count": 0,
      "outputs": []
    },
    {
      "cell_type": "code",
      "metadata": {
        "Collapsed": "false",
        "colab_type": "code",
        "id": "2baNDTP0nVIK",
        "colab": {}
      },
      "source": [
        "nfdict={}\n",
        "nflist=[]\n",
        "for i in range(len(df['Title'])):\n",
        "    if (pd.isna(df['Title'][i])):\n",
        "        nfdict[\"index\"]=i\n",
        "        print(i,df[\"ISBN-13\"][i])\n",
        "        nfdict[\"isbn\"]=df[\"ISBN-13\"][i]\n",
        "        nflist.append(nfdict)\n",
        "        nfdict={}"
      ],
      "execution_count": 0,
      "outputs": []
    },
    {
      "cell_type": "code",
      "metadata": {
        "Collapsed": "false",
        "id": "pAvACKfEMGN_",
        "colab_type": "code",
        "colab": {}
      },
      "source": [
        "nfinfolist=[]\n",
        "infodict={}\n",
        "\n",
        "notFound=False\n",
        "namesofmeta=['Authors','Language','Publisher','Title','Year']\n",
        "\n",
        "\n",
        "for i in nflist:\n",
        "    isbnval=list((i.values()))[1]\n",
        "    print((isbnval))\n",
        "    infodict={}\n",
        "    exfodict={}\n",
        "   \n",
        "    try:\n",
        "        infodict= ib.meta(str(isbnval),service=\"openl\")\n",
        "    except ISBNLibException:\n",
        "        infodict = {\"ISBN-13\":str(isbnval)}\n",
        "        notFound=True\n",
        "        for i in namesofmeta:\n",
        "          infodict[i]=\"\"\n",
        "      \n",
        "    if not(False):\n",
        "      authname=\"\"\n",
        "      for j in infodict[\"Authors\"]:\n",
        "        if not isinstance(infodict[\"Authors\"],str):\n",
        "          authname=\", \".join(j)\n",
        "        else:\n",
        "          authname=str(infodict[\"Authors\"])\n",
        "      exfodict[\"Author\"]=authname\n",
        "      exfodict[\"Title\"]=infodict[\"Title\"]\n",
        "      exfodict[\"ISBN-13\"]=infodict[\"ISBN-13\"]\n",
        "      exfodict[\"Published\"]=infodict[\"Year\"]\n",
        "      exfodict[\"URL\"]=\"\"\n",
        "      exfodict[\"Categories\"]=\"\"\n",
        "      #exfodict[\"Publisher\"]=infodict[\"Publisher\"]\n",
        "    print(exfodict)\n",
        "    \n",
        "    nfinfolist.append(exfodict)  "
      ],
      "execution_count": 0,
      "outputs": []
    },
    {
      "cell_type": "code",
      "metadata": {
        "Collapsed": "false",
        "id": "muIebJotMGOI",
        "colab_type": "code",
        "colab": {}
      },
      "source": [
        "nfupdatelist=[]\n",
        "for i in nfinfolist:\n",
        "  row=[]\n",
        "  row.append(i[\"Title\"])\n",
        "  row.append(i[\"Author\"])\n",
        "  row.append(i[\"Published\"])\n",
        "  row.append(i[\"Categories\"])\n",
        "  row.append(i[\"URL\"])\n",
        "  row.append(i[\"ISBN-13\"])\n",
        "  nfupdatelist.append(row)\n",
        "\n",
        "j=0\n",
        "for i in nflist:\n",
        "  index=list(i.values())[0]\n",
        "  df.loc[index]=nfupdatelist[j]\n",
        "  j=j+1\n",
        "\n",
        "df"
      ],
      "execution_count": 0,
      "outputs": []
    },
    {
      "cell_type": "markdown",
      "metadata": {
        "id": "Z-mlAKeHSCXi",
        "colab_type": "text"
      },
      "source": [
        "# Lookup on Amazon and others"
      ]
    },
    {
      "cell_type": "code",
      "metadata": {
        "id": "JYAY0DlEbI5-",
        "colab_type": "code",
        "colab": {}
      },
      "source": [
        "def scrapeamazon(isbn=\"9788181479136\"):\n",
        "  apihead=\"http://api.scraperapi.com?api_key=6594089066e419a8ba582146468a34af&url=\"\n",
        "  pageurl=\"https://www.amazon.com/s?k=\"\n",
        "  r=requests.get(pageurl+isbn)\n",
        "  #if (r.status_code>500):\n",
        "  #  r1=requests.get(apihead+pageurl+isbn)\n",
        "  #  r=r1\n",
        "  page_soup=soup(r.content,\"html.parser\")\n",
        "  datalist=page_soup.findAll(\"div\",{\"class\":\"sg-col-inner\"})\n",
        "  return(datalist)\n",
        "\n",
        "#scrapeamazon()"
      ],
      "execution_count": 0,
      "outputs": []
    },
    {
      "cell_type": "code",
      "metadata": {
        "id": "Mkx0HKfqbVQb",
        "colab_type": "code",
        "colab": {}
      },
      "source": [
        "def scrapeisbnsnet(isbn=\"9788189988364\"):\n",
        "  apihead=\"http://api.scraperapi.com?api_key=6594089066e419a8ba582146468a34af&url=\"\n",
        "  pageurl=\"https://www.isbns.net/isbn/\"\n",
        "  r=requests.get(apihead+pageurl+isbn+\"/\")\n",
        "  print(r.content)\n",
        "  page_soup=soup(r.content,\"html.parser\")\n",
        "  datalist=page_soup.findAll(\"td\",{\"class\":\"regularText\"})\n",
        "  return(datalist)\n",
        "\n",
        "#datalist=scrapeisbnsnet()"
      ],
      "execution_count": 0,
      "outputs": []
    },
    {
      "cell_type": "code",
      "metadata": {
        "id": "xwBOW5k9lN-0",
        "colab_type": "code",
        "colab": {}
      },
      "source": [
        "df.to_csv(\"./output.csv\",index=False)"
      ],
      "execution_count": 0,
      "outputs": []
    }
  ]
}