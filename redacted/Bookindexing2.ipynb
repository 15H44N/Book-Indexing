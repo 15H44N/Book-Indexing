{
 "cells": [
  {
   "cell_type": "code",
   "execution_count": 49,
   "metadata": {
    "Collapsed": "false",
    "colab": {},
    "colab_type": "code",
    "id": "4dIUpEWhYNd6"
   },
   "outputs": [
    {
     "name": "stdout",
     "output_type": "stream",
     "text": [
      "Collecting isbnlib\n",
      "  Downloading isbnlib-3.10.0-py2.py3-none-any.whl (62 kB)\n",
      "Installing collected packages: isbnlib\n",
      "Successfully installed isbnlib-3.10.0\n"
     ]
    }
   ],
   "source": [
    "!pip install isbnlib"
   ]
  },
  {
   "cell_type": "code",
   "execution_count": 51,
   "metadata": {
    "Collapsed": "false",
    "colab": {},
    "colab_type": "code",
    "id": "Ih30TTCFZJdZ"
   },
   "outputs": [],
   "source": [
    "import pandas as pd\n",
    "import isbnlib as ib\n",
    "from isbnlib import ISBNLibException\n"
   ]
  },
  {
   "cell_type": "code",
   "execution_count": 4,
   "metadata": {
    "Collapsed": "false",
    "colab": {},
    "colab_type": "code",
    "id": "x1iRQQ_msRuL"
   },
   "outputs": [],
   "source": [
    "Isbnlist=[9780143064978,9781447209225,9788190105972,9780330302296,9780143330219,9788174364166,9788189988364,9788120781757,9780143441502,9788129300379,9781420070644,9789386322265,9788181479136]\n",
    "for i in range(len(Isbnlist)):\n",
    "  y=Isbnlist[i]\n",
    "  Isbnlist[i]=str(y)"
   ]
  },
  {
   "cell_type": "code",
   "execution_count": 37,
   "metadata": {
    "Collapsed": "false",
    "colab": {},
    "colab_type": "code",
    "id": "7S37Sfa4mi_B"
   },
   "outputs": [
    {
     "data": {
      "text/html": [
       "<div>\n",
       "<style scoped>\n",
       "    .dataframe tbody tr th:only-of-type {\n",
       "        vertical-align: middle;\n",
       "    }\n",
       "\n",
       "    .dataframe tbody tr th {\n",
       "        vertical-align: top;\n",
       "    }\n",
       "\n",
       "    .dataframe thead th {\n",
       "        text-align: right;\n",
       "    }\n",
       "</style>\n",
       "<table border=\"1\" class=\"dataframe\">\n",
       "  <thead>\n",
       "    <tr style=\"text-align: right;\">\n",
       "      <th></th>\n",
       "      <th>Title</th>\n",
       "      <th>Author</th>\n",
       "      <th>Published</th>\n",
       "      <th>Categories</th>\n",
       "      <th>URL</th>\n",
       "      <th>ISBN-13</th>\n",
       "    </tr>\n",
       "  </thead>\n",
       "  <tbody>\n",
       "    <tr>\n",
       "      <th>0</th>\n",
       "      <td>The Penguin Yearbook 2009</td>\n",
       "      <td>Derek O'Brien</td>\n",
       "      <td>2008</td>\n",
       "      <td>Encyclopedias and dictionaries</td>\n",
       "      <td>http://books.google.co.in/books?id=2khyPwAACAA...</td>\n",
       "      <td>9780143064978</td>\n",
       "    </tr>\n",
       "    <tr>\n",
       "      <th>1</th>\n",
       "      <td>The Sins of the Father (The Clifton Chronicles)</td>\n",
       "      <td>Jeffrey Archer</td>\n",
       "      <td>January 2012</td>\n",
       "      <td></td>\n",
       "      <td>http://isbnsearch.org/isbn/9781447209225</td>\n",
       "      <td>9781447209225</td>\n",
       "    </tr>\n",
       "    <tr>\n",
       "      <th>2</th>\n",
       "      <td></td>\n",
       "      <td></td>\n",
       "      <td></td>\n",
       "      <td></td>\n",
       "      <td></td>\n",
       "      <td>9788190105972</td>\n",
       "    </tr>\n",
       "    <tr>\n",
       "      <th>3</th>\n",
       "      <td>Effective Time Management</td>\n",
       "      <td>John Eric Adair</td>\n",
       "      <td>2002-05-01</td>\n",
       "      <td>Reference</td>\n",
       "      <td>http://books.google.co.in/books?id=DairQgAACAA...</td>\n",
       "      <td>9780330302296</td>\n",
       "    </tr>\n",
       "    <tr>\n",
       "      <th>4</th>\n",
       "      <td>Boyhood Days</td>\n",
       "      <td>Rabindranath Tagore</td>\n",
       "      <td>2007</td>\n",
       "      <td>Biography &amp; Autobiography</td>\n",
       "      <td>http://books.google.co.in/books?id=UWhnwlQyplE...</td>\n",
       "      <td>9780143330219</td>\n",
       "    </tr>\n",
       "    <tr>\n",
       "      <th>5</th>\n",
       "      <td>Nutitive Cooking For Children</td>\n",
       "      <td>Dr Shaila Santhanam</td>\n",
       "      <td>2006-01-01</td>\n",
       "      <td></td>\n",
       "      <td>http://books.google.co.in/books?id=PzeSMwAACAA...</td>\n",
       "      <td>9788174364166</td>\n",
       "    </tr>\n",
       "    <tr>\n",
       "      <th>6</th>\n",
       "      <td></td>\n",
       "      <td></td>\n",
       "      <td></td>\n",
       "      <td></td>\n",
       "      <td></td>\n",
       "      <td>9788189988364</td>\n",
       "    </tr>\n",
       "    <tr>\n",
       "      <th>7</th>\n",
       "      <td>Jagat Guru</td>\n",
       "      <td>Prasada Jagannadha Rao</td>\n",
       "      <td>2013-01-01</td>\n",
       "      <td>Spiritual life</td>\n",
       "      <td>http://books.google.co.in/books?id=5EaPngEACAA...</td>\n",
       "      <td>9788120781757</td>\n",
       "    </tr>\n",
       "    <tr>\n",
       "      <th>8</th>\n",
       "      <td>Exam Warriors</td>\n",
       "      <td>Modi, Narendra</td>\n",
       "      <td>January 2019</td>\n",
       "      <td></td>\n",
       "      <td>http://isbnsearch.org/isbn/9780143441502</td>\n",
       "      <td>9780143441502</td>\n",
       "    </tr>\n",
       "    <tr>\n",
       "      <th>9</th>\n",
       "      <td>Be Good and Invaluable Advice</td>\n",
       "      <td>Swami Ramsukhdas</td>\n",
       "      <td>2010</td>\n",
       "      <td>Conduct of life</td>\n",
       "      <td>http://books.google.co.in/books?id=zOUmMwEACAA...</td>\n",
       "      <td>9788129300379</td>\n",
       "    </tr>\n",
       "    <tr>\n",
       "      <th>10</th>\n",
       "      <td>Medical Management of Thyroid Disease, Second ...</td>\n",
       "      <td>David S. Cooper</td>\n",
       "      <td>2009-04-09</td>\n",
       "      <td>Medical</td>\n",
       "      <td>http://books.google.co.in/books?id=CTTCwAEACAA...</td>\n",
       "      <td>9781420070644</td>\n",
       "    </tr>\n",
       "    <tr>\n",
       "      <th>11</th>\n",
       "      <td>Ramadan &amp; Diabetes Care</td>\n",
       "      <td>Abdul Hamid Zargar, Sanjay Kalra</td>\n",
       "      <td>2017-09-30</td>\n",
       "      <td>Medical</td>\n",
       "      <td>http://books.google.co.in/books?id=bHjWAQAACAA...</td>\n",
       "      <td>9789386322265</td>\n",
       "    </tr>\n",
       "    <tr>\n",
       "      <th>12</th>\n",
       "      <td></td>\n",
       "      <td></td>\n",
       "      <td></td>\n",
       "      <td></td>\n",
       "      <td></td>\n",
       "      <td>9788181479136</td>\n",
       "    </tr>\n",
       "  </tbody>\n",
       "</table>\n",
       "</div>"
      ],
      "text/plain": [
       "                                                Title  \\\n",
       "0                           The Penguin Yearbook 2009   \n",
       "1     The Sins of the Father (The Clifton Chronicles)   \n",
       "2                                                       \n",
       "3                           Effective Time Management   \n",
       "4                                        Boyhood Days   \n",
       "5                       Nutitive Cooking For Children   \n",
       "6                                                       \n",
       "7                                          Jagat Guru   \n",
       "8                                       Exam Warriors   \n",
       "9                       Be Good and Invaluable Advice   \n",
       "10  Medical Management of Thyroid Disease, Second ...   \n",
       "11                            Ramadan & Diabetes Care   \n",
       "12                                                      \n",
       "\n",
       "                              Author     Published  \\\n",
       "0                      Derek O'Brien          2008   \n",
       "1                     Jeffrey Archer  January 2012   \n",
       "2                                                    \n",
       "3                    John Eric Adair    2002-05-01   \n",
       "4                Rabindranath Tagore          2007   \n",
       "5                Dr Shaila Santhanam    2006-01-01   \n",
       "6                                                    \n",
       "7             Prasada Jagannadha Rao    2013-01-01   \n",
       "8                     Modi, Narendra  January 2019   \n",
       "9                   Swami Ramsukhdas          2010   \n",
       "10                   David S. Cooper    2009-04-09   \n",
       "11  Abdul Hamid Zargar, Sanjay Kalra    2017-09-30   \n",
       "12                                                   \n",
       "\n",
       "                        Categories  \\\n",
       "0   Encyclopedias and dictionaries   \n",
       "1                                    \n",
       "2                                    \n",
       "3                        Reference   \n",
       "4        Biography & Autobiography   \n",
       "5                                    \n",
       "6                                    \n",
       "7                   Spiritual life   \n",
       "8                                    \n",
       "9                  Conduct of life   \n",
       "10                         Medical   \n",
       "11                         Medical   \n",
       "12                                   \n",
       "\n",
       "                                                  URL        ISBN-13  \n",
       "0   http://books.google.co.in/books?id=2khyPwAACAA...  9780143064978  \n",
       "1            http://isbnsearch.org/isbn/9781447209225  9781447209225  \n",
       "2                                                      9788190105972  \n",
       "3   http://books.google.co.in/books?id=DairQgAACAA...  9780330302296  \n",
       "4   http://books.google.co.in/books?id=UWhnwlQyplE...  9780143330219  \n",
       "5   http://books.google.co.in/books?id=PzeSMwAACAA...  9788174364166  \n",
       "6                                                      9788189988364  \n",
       "7   http://books.google.co.in/books?id=5EaPngEACAA...  9788120781757  \n",
       "8            http://isbnsearch.org/isbn/9780143441502  9780143441502  \n",
       "9   http://books.google.co.in/books?id=zOUmMwEACAA...  9788129300379  \n",
       "10  http://books.google.co.in/books?id=CTTCwAEACAA...  9781420070644  \n",
       "11  http://books.google.co.in/books?id=bHjWAQAACAA...  9789386322265  \n",
       "12                                                     9788181479136  "
      ]
     },
     "execution_count": 37,
     "metadata": {},
     "output_type": "execute_result"
    }
   ],
   "source": [
    "df=pd.read_csv(\"./out.csv\",)\n",
    "df.fillna(\"\")"
   ]
  },
  {
   "cell_type": "code",
   "execution_count": 47,
   "metadata": {
    "Collapsed": "false",
    "colab": {},
    "colab_type": "code",
    "id": "2baNDTP0nVIK"
   },
   "outputs": [
    {
     "name": "stdout",
     "output_type": "stream",
     "text": [
      "2 9788190105972\n",
      "6 9788189988364\n",
      "12 9788181479136\n"
     ]
    }
   ],
   "source": [
    "nfdict={}\n",
    "nflist=[]\n",
    "for i in range(len(df['Title'])):\n",
    "    if (pd.isna(df['Title'][i])):\n",
    "        nfdict[\"index\"]=i\n",
    "        print(i,df[\"ISBN-13\"][i])\n",
    "        nfdict[\"isbn\"]=df[\"ISBN-13\"][i]\n",
    "        nflist.append(nfdict)\n",
    "        nfdict={}"
   ]
  },
  {
   "cell_type": "code",
   "execution_count": 58,
   "metadata": {
    "Collapsed": "false"
   },
   "outputs": [
    {
     "name": "stdout",
     "output_type": "stream",
     "text": [
      "9788190105972\n",
      "9788189988364\n",
      "9788181479136\n"
     ]
    }
   ],
   "source": [
    "nfinfolist=[]\n",
    "for i in nflist:\n",
    "    isbnval=list((i.values()))[1]\n",
    "    print((isbnval))\n",
    "    infodict={}\n",
    "    try:\n",
    "        infodict= ib.meta(str(isbnval),service=\"openl\")\n",
    "    except ISBNLibException:\n",
    "        infodict = {\"ISBN-13\":isbnval}\n",
    "    infodict[\"\"]\n",
    "    nfinfolist.append(infodict)\n",
    "    \n",
    "        "
   ]
  },
  {
   "cell_type": "code",
   "execution_count": 59,
   "metadata": {
    "Collapsed": "false"
   },
   "outputs": [
    {
     "data": {
      "text/plain": [
       "[{'ISBN-13': '9788190105972',\n",
       "  'Title': 'Practicing the Power of NOW',\n",
       "  'Authors': [''],\n",
       "  'Publisher': 'Yogi Impressions',\n",
       "  'Year': '2002',\n",
       "  'Language': ''},\n",
       " {'ISBN-13': 9788189988364},\n",
       " {'ISBN-13': 9788181479136}]"
      ]
     },
     "execution_count": 59,
     "metadata": {},
     "output_type": "execute_result"
    }
   ],
   "source": [
    "nfinfolist"
   ]
  },
  {
   "cell_type": "code",
   "execution_count": null,
   "metadata": {
    "Collapsed": "false"
   },
   "outputs": [],
   "source": []
  }
 ],
 "metadata": {
  "colab": {
   "collapsed_sections": [],
   "name": "Bookindexing2.ipynb",
   "private_outputs": true,
   "provenance": []
  },
  "kernelspec": {
   "display_name": "Python 3",
   "language": "python",
   "name": "python3"
  },
  "language_info": {
   "codemirror_mode": {
    "name": "ipython",
    "version": 3
   },
   "file_extension": ".py",
   "mimetype": "text/x-python",
   "name": "python",
   "nbconvert_exporter": "python",
   "pygments_lexer": "ipython3",
   "version": "3.7.6"
  }
 },
 "nbformat": 4,
 "nbformat_minor": 4
}
